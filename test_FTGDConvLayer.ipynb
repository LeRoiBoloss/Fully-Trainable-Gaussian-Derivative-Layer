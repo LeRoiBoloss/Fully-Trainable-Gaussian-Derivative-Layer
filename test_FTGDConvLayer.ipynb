{
 "cells": [
  {
   "cell_type": "markdown",
   "metadata": {},
   "source": [
    "# Simple Example of a FTGDConvNet on Fashion MNIST"
   ]
  },
  {
   "cell_type": "code",
   "execution_count": 31,
   "metadata": {},
   "outputs": [],
   "source": [
    "from FTGDConvLayer import *\n",
    "from tensorflow.keras.layers import *\n",
    "from tensorflow.keras.regularizers import *\n",
    "from tensorflow.keras.models import *"
   ]
  },
  {
   "cell_type": "code",
   "execution_count": 32,
   "metadata": {},
   "outputs": [],
   "source": [
    "num_classes = 10\n",
    "input_shape = (28, 28, 1)\n",
    "\n",
    "\n",
    "(x_train, y_train), (x_test, y_test) = tensorflow.keras.datasets.fashion_mnist.load_data()\n",
    "\n",
    "\n",
    "x_train = x_train.astype(\"float32\")/255\n",
    "x_test = x_test.astype(\"float32\")/255\n",
    "\n",
    "x_train = np.expand_dims(x_train, -1)\n",
    "x_test = np.expand_dims(x_test, -1)\n",
    "\n",
    "y_train = tensorflow.keras.utils.to_categorical(y_train, num_classes)\n",
    "y_test = tensorflow.keras.utils.to_categorical(y_test, num_classes)"
   ]
  },
  {
   "cell_type": "markdown",
   "metadata": {},
   "source": [
    "A little Fully Trainable Gaussian Derivative Convolutional Network. Using one layer with separated linear combination and a classical one."
   ]
  },
  {
   "cell_type": "code",
   "execution_count": 33,
   "metadata": {},
   "outputs": [],
   "source": [
    "xIn = Input(shape = input_shape)\n",
    "x = FTGDConvLayer(filters=16, kernel_size = (7,7), num_basis= 4, order=3, separated = True, name = 'Gaussian1')(xIn)\n",
    "x = BatchNormalization()(x)\n",
    "x = Activation('relu')(x)\n",
    "x = FTGDConvLayer(filters=32, kernel_size = (7,7), num_basis= 8, order=3, name = 'Gaussian2')(x)\n",
    "x = BatchNormalization()(x)\n",
    "x = Activation('relu')(x)\n",
    "x = GlobalAveragePooling2D()(x)\n",
    "x = Dense(num_classes, activation = 'softmax')(x)\n",
    "\n",
    "model = Model(xIn,x)"
   ]
  },
  {
   "cell_type": "code",
   "execution_count": 34,
   "metadata": {},
   "outputs": [],
   "source": [
    "model.compile(loss = tensorflow.keras.losses.categorical_crossentropy, optimizer  = tensorflow.keras.optimizers.Adam(learning_rate = 0.01), metrics=['accuracy'])"
   ]
  },
  {
   "cell_type": "markdown",
   "metadata": {},
   "source": [
    "Train it a little bit !"
   ]
  },
  {
   "cell_type": "code",
   "execution_count": 35,
   "metadata": {},
   "outputs": [
    {
     "name": "stdout",
     "output_type": "stream",
     "text": [
      "Epoch 1/2\n",
      "1000/1000 [==============================] - 120s 72ms/step - loss: 0.7996 - accuracy: 0.7172 - val_loss: 0.6387 - val_accuracy: 0.7751\n",
      "Epoch 2/2\n",
      "1000/1000 [==============================] - 66s 66ms/step - loss: 0.5241 - accuracy: 0.8123 - val_loss: 0.5716 - val_accuracy: 0.7789\n"
     ]
    }
   ],
   "source": [
    "history = model.fit(x_train[:45000, :,:,:], y_train[:45000,:], batch_size = 45, epochs = 2, validation_data=(x_train[45000:, :,:,:], y_train[45000:,:]), verbose = 1)"
   ]
  },
  {
   "cell_type": "markdown",
   "metadata": {},
   "source": [
    "Let's say your quite happy with the performance and you want to deploy it:"
   ]
  },
  {
   "cell_type": "code",
   "execution_count": 36,
   "metadata": {},
   "outputs": [
    {
     "name": "stdout",
     "output_type": "stream",
     "text": [
      "True\n",
      "True\n"
     ]
    }
   ],
   "source": [
    "model.layers[1].deploy()\n",
    "model.layers[4].deploy()\n",
    "print(model.layers[1].deployed)\n",
    "print(model.layers[4].deployed)"
   ]
  },
  {
   "cell_type": "markdown",
   "metadata": {},
   "source": [
    "You can now use it to test or predict things !"
   ]
  },
  {
   "cell_type": "code",
   "execution_count": 37,
   "metadata": {},
   "outputs": [
    {
     "name": "stdout",
     "output_type": "stream",
     "text": [
      "Test Accuracy : 77.21 and Test Loss : 0.598\n"
     ]
    }
   ],
   "source": [
    "score = model.evaluate(x_test, y_test, verbose = 0)\n",
    "print('Test Accuracy : %.2f and Test Loss : %.3f' % (score[1]*100, score[0]))"
   ]
  },
  {
   "cell_type": "markdown",
   "metadata": {},
   "source": [
    "You want to train it a little bit more:"
   ]
  },
  {
   "cell_type": "code",
   "execution_count": 38,
   "metadata": {},
   "outputs": [
    {
     "name": "stdout",
     "output_type": "stream",
     "text": [
      "False\n",
      "False\n"
     ]
    }
   ],
   "source": [
    "model.layers[1].to_train()\n",
    "model.layers[4].to_train()\n",
    "print(model.layers[1].deployed)\n",
    "print(model.layers[4].deployed)"
   ]
  },
  {
   "cell_type": "code",
   "execution_count": 39,
   "metadata": {},
   "outputs": [
    {
     "name": "stdout",
     "output_type": "stream",
     "text": [
      "1000/1000 [==============================] - 67s 67ms/step - loss: 0.4540 - accuracy: 0.8397 - val_loss: 0.5466 - val_accuracy: 0.8034\n"
     ]
    }
   ],
   "source": [
    "history = model.fit(x_train[:45000, :,:,:], y_train[:45000,:], batch_size = 45, epochs = 1, validation_data=(x_train[45000:, :,:,:], y_train[45000:,:]), verbose = 1)"
   ]
  },
  {
   "cell_type": "markdown",
   "metadata": {},
   "source": [
    "Look at some of its filters: "
   ]
  },
  {
   "cell_type": "code",
   "execution_count": 40,
   "metadata": {},
   "outputs": [
    {
     "name": "stdout",
     "output_type": "stream",
     "text": [
      "(7, 7, 16, 32)\n"
     ]
    }
   ],
   "source": [
    "model.layers[1].deploy()\n",
    "model.layers[4].deploy()\n",
    "\n",
    "SomeFilters = model.layers[4].GaussFilters\n",
    "print(SomeFilters.shape)\n"
   ]
  },
  {
   "cell_type": "code",
   "execution_count": 42,
   "metadata": {},
   "outputs": [
    {
     "data": {
      "image/png": "[encoded data removed]",
      "text/plain": [
       "<matplotlib.figure.Figure at 0x7f6801d42da0>"
      ]
     },
     "metadata": {
      "needs_background": "light"
     },
     "output_type": "display_data"
    }
   ],
   "source": [
    "import matplotlib.pyplot as plt\n",
    "\n",
    "num_filter = 1\n",
    "\n",
    "\n",
    "plt.figure()\n",
    "for i in range(SomeFilters.shape[-2]):\n",
    "    plt.subplot(4, int(SomeFilters.shape[-2]/4), i+1), plt.imshow(SomeFilters[:,:,i,num_filter])\n",
    "    \n",
    "plt.show()"
   ]
  }
 ],
 "metadata": {
  "kernelspec": {
   "display_name": "Python 3",
   "language": "python",
   "name": "python3"
  },
  "language_info": {
   "codemirror_mode": {
    "name": "ipython",
    "version": 3
   },
   "file_extension": ".py",
   "mimetype": "text/x-python",
   "name": "python",
   "nbconvert_exporter": "python",
   "pygments_lexer": "ipython3",
   "version": "3.6.9"
  }
 },
 "nbformat": 4,
 "nbformat_minor": 4
}
